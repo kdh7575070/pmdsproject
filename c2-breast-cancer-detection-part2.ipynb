{
 "cells": [
  {
   "cell_type": "markdown",
   "id": "4645e23c",
   "metadata": {
    "papermill": {
     "duration": 0.010361,
     "end_time": "2023-03-10T16:03:35.199844",
     "exception": false,
     "start_time": "2023-03-10T16:03:35.189483",
     "status": "completed"
    },
    "tags": []
   },
   "source": [
    "<p id=\"part0\"></p>\n",
    "​\n",
    "<p style=\"font-family: Arials; line-height: 2; font-size: 44px; font-weight: bold; letter-spacing: 0px; text-align: center; color: #FF8C00\">Breast Cancer</p>\n",
    "​\n",
    "<img src=\"https://img.medscape.com/thumbnail_library/dt_190424_breast_cancer_800x450.jpg\" width=\"90%\" align=\"center\" hspace=\"20%\" vspace=\"5%\"/>\n",
    "​\n",
    "<p style=\"font-family: Arials; font-size: 40px; font-style: normal; font-weight: bold; letter-spacing: -2px; color: #000000; line-height:2.0\">Table of content:</p>\n",
    "​\n",
    "<p style=\"font-family: Arials; font-size: 18px; font-style: normal; font-weight: bold; letter-spacing: 0px; color: #000000; line-height:.5\"><a href=\"#part1\" style=\"color:#000000\"> 1- Import Libraries</a></p>\n",
    "\n",
    "<p style=\"font-family: Arials; font-size: 18px; font-style: normal; font-weight: bold; letter-spacing: 0px; color: #000000; line-height:.5\"><a href=\"#part2\" style=\"color:#000000\"> 2- Add two datasets </a></p>\n",
    "\n",
    "\n",
    "<p style=\"font-family: Arials; font-size: 18px; font-style: normal; font-weight: bold; letter-spacing: 0px; color: #000000; line-height:.5\"><a href=\"#part3\" style=\"color:#000000\"> 3-EDA</a></p>\n",
    "\n",
    "<p style=\"text-indent: 1vw; font-family: Arials; font-size: 16px; font-style: normal; font-weight: bold; letter-spacing: 0px; color: #000000; line-height:0.5\">\n",
    "<a href=\"#part3-1\" style=\"color:#000000\">3-1 Lable encoding</a></p>\n",
    "\n",
    "<p style=\"text-indent: 1vw; font-family: Arials; font-size: 16px; font-style: normal; font-weight: bold; letter-spacing: 0px; color: #000000; line-height:0.5\">\n",
    "<a href=\"#part3-2\" style=\"color:#000000\">3-2 Useful information on datasets</a></p>\n",
    "\n",
    "<p style=\"text-indent: 1vw; font-family: Arials; font-size: 16px; font-style: normal; font-weight: bold; letter-spacing: 0px; color: #000000; line-height:0.5\">\n",
    "<a href=\"#part3-3\" style=\"color:#000000\">3-3 Filling missing values </a></p>\n",
    "\n",
    "<p style=\"text-indent: 1vw; font-family: Arials; font-size: 16px; font-style: normal; font-weight: bold; letter-spacing: 0px; color: #000000; line-height:0.5\">\n",
    "<a href=\"#part3-3-1\" style=\"color:#000000\">3-3-1 Filling age column </a></p>\n",
    "\n",
    "<p style=\"text-indent: 1vw; font-family: Arials; font-size: 16px; font-style: normal; font-weight: bold; letter-spacing: 0px; color: #000000; line-height:0.5\">\n",
    "<a href=\"#part3-3-2\" style=\"color:#000000\">3-3-2 Filling BIRADS column </a></p>\n",
    "\n",
    "<p style=\"text-indent: 1vw; font-family: Arials; font-size: 16px; font-style: normal; font-weight: bold; letter-spacing: 0px; color: #000000; line-height:0.5\">\n",
    "<a href=\"#part3-4\" style=\"color:#000000\">3-4 Feature selection</a></p>\n",
    "\n",
    "<p style=\"text-indent: 1vw; font-family: Arials; font-size: 16px; font-style: normal; font-weight: bold; letter-spacing: 0px; color: #000000; line-height:0.5\">\n",
    "<a href=\"#part3-4\" style=\"color:#000000\">3-4-1 Correlation matrix</a></p>\n",
    "\n",
    "<p style=\"text-indent: 1vw; font-family: Arials; font-size: 16px; font-style: normal; font-weight: bold; letter-spacing: 0px; color: #000000; line-height:0.5\">\n",
    "<a href=\"#part3-4\" style=\"color:#000000\">3-4-2 Mutual information/Gain Entropy</a></p>\n",
    "\n",
    "<p style=\"text-indent: 1vw; font-family: Arials; font-size: 16px; font-style: normal; font-weight: bold; letter-spacing: 0px; color: #000000; line-height:0.5\">\n",
    "<a href=\"#part3-5\" style=\"color:#000000\">3-5 Visualization</a></p>"
   ]
  },
  {
   "cell_type": "markdown",
   "id": "8603c181",
   "metadata": {
    "papermill": {
     "duration": 0.00867,
     "end_time": "2023-03-10T16:03:35.217714",
     "exception": false,
     "start_time": "2023-03-10T16:03:35.209044",
     "status": "completed"
    },
    "tags": []
   },
   "source": [
    "<p id=\"part1\"></p>\n",
    "\n",
    "<p style=\"font-family: Times New Roman; font-size: 20px; font-style: bold; font-weight: bold; letter-spacing: 0px; color: #0000FF\">1- Import libraris<p>\n",
    "<hr style=\"height: 1px; border: 1; background-color: #0000FF\">"
   ]
  },
  {
   "cell_type": "code",
   "execution_count": 1,
   "id": "5966f4ea",
   "metadata": {
    "execution": {
     "iopub.execute_input": "2023-03-10T16:03:35.238101Z",
     "iopub.status.busy": "2023-03-10T16:03:35.237656Z",
     "iopub.status.idle": "2023-03-10T16:03:36.977240Z",
     "shell.execute_reply": "2023-03-10T16:03:36.975730Z"
    },
    "papermill": {
     "duration": 1.753625,
     "end_time": "2023-03-10T16:03:36.980371",
     "exception": false,
     "start_time": "2023-03-10T16:03:35.226746",
     "status": "completed"
    },
    "tags": []
   },
   "outputs": [],
   "source": [
    "import pandas as pd\n",
    "import numpy as np\n",
    "import pydicom\n",
    "from sklearn import preprocessing\n",
    "from matplotlib import pyplot as plt\n",
    "import seaborn as sns\n",
    "from tqdm.notebook import tqdm\n",
    "import cv2\n",
    "import glob\n",
    "import random\n",
    "import os,time"
   ]
  },
  {
   "cell_type": "markdown",
   "id": "3692f5da",
   "metadata": {
    "papermill": {
     "duration": 0.008783,
     "end_time": "2023-03-10T16:03:36.998564",
     "exception": false,
     "start_time": "2023-03-10T16:03:36.989781",
     "status": "completed"
    },
    "tags": []
   },
   "source": [
    "<p id=\"part2\"></p>\n",
    "\n",
    "<p style=\"font-family: Times New Roman; font-size: 20px; font-style: bold; font-weight: bold; letter-spacing: 0px; color: #0000FF\">2-Add two datasets?</p>\n",
    "<hr style=\"height: 1px; border: 1; background-color: #0000FF\">"
   ]
  },
  {
   "cell_type": "markdown",
   "id": "89cd4449",
   "metadata": {
    "papermill": {
     "duration": 0.008656,
     "end_time": "2023-03-10T16:03:37.016264",
     "exception": false,
     "start_time": "2023-03-10T16:03:37.007608",
     "status": "completed"
    },
    "tags": []
   },
   "source": [
    "add two datasets:\n",
    " \n",
    "1st; https://www.kaggle.com/competitions/rsna-breast-cancer-detection    To have an access to all competition data\n",
    "\n",
    "2nd; https://www.kaggle.com/code/mohammadamiri1/dicom-to-png/    To have an access to cropped png files, instead of dcm files\n",
    "\n",
    "In the second dataset, we did some tasks to crop dicom files to remove uselss spaces , then turned them to png format"
   ]
  },
  {
   "cell_type": "markdown",
   "id": "053c16a8",
   "metadata": {
    "papermill": {
     "duration": 0.008704,
     "end_time": "2023-03-10T16:03:37.034290",
     "exception": false,
     "start_time": "2023-03-10T16:03:37.025586",
     "status": "completed"
    },
    "tags": []
   },
   "source": [
    "<p id=\"part3\"></p>\n",
    "\n",
    "<p style=\"font-family: Times New Roman; font-size: 20px; font-style: bold; font-weight: bold; letter-spacing: 0px; color: #0000FF\">3- EDA</p>\n",
    "<hr style=\"height: 1px; border: 1; background-color: #0000FF\">"
   ]
  },
  {
   "cell_type": "code",
   "execution_count": 2,
   "id": "a5b097f3",
   "metadata": {
    "execution": {
     "iopub.execute_input": "2023-03-10T16:03:37.055308Z",
     "iopub.status.busy": "2023-03-10T16:03:37.054294Z",
     "iopub.status.idle": "2023-03-10T16:03:37.230489Z",
     "shell.execute_reply": "2023-03-10T16:03:37.229566Z"
    },
    "papermill": {
     "duration": 0.189276,
     "end_time": "2023-03-10T16:03:37.232960",
     "exception": false,
     "start_time": "2023-03-10T16:03:37.043684",
     "status": "completed"
    },
    "tags": []
   },
   "outputs": [
    {
     "data": {
      "text/html": [
       "<div>\n",
       "<style scoped>\n",
       "    .dataframe tbody tr th:only-of-type {\n",
       "        vertical-align: middle;\n",
       "    }\n",
       "\n",
       "    .dataframe tbody tr th {\n",
       "        vertical-align: top;\n",
       "    }\n",
       "\n",
       "    .dataframe thead th {\n",
       "        text-align: right;\n",
       "    }\n",
       "</style>\n",
       "<table border=\"1\" class=\"dataframe\">\n",
       "  <thead>\n",
       "    <tr style=\"text-align: right;\">\n",
       "      <th></th>\n",
       "      <th>site_id</th>\n",
       "      <th>patient_id</th>\n",
       "      <th>image_id</th>\n",
       "      <th>laterality</th>\n",
       "      <th>view</th>\n",
       "      <th>age</th>\n",
       "      <th>cancer</th>\n",
       "      <th>biopsy</th>\n",
       "      <th>invasive</th>\n",
       "      <th>BIRADS</th>\n",
       "      <th>implant</th>\n",
       "      <th>density</th>\n",
       "      <th>machine_id</th>\n",
       "      <th>difficult_negative_case</th>\n",
       "    </tr>\n",
       "  </thead>\n",
       "  <tbody>\n",
       "    <tr>\n",
       "      <th>0</th>\n",
       "      <td>2</td>\n",
       "      <td>10006</td>\n",
       "      <td>462822612</td>\n",
       "      <td>L</td>\n",
       "      <td>CC</td>\n",
       "      <td>61.0</td>\n",
       "      <td>0</td>\n",
       "      <td>0</td>\n",
       "      <td>0</td>\n",
       "      <td>NaN</td>\n",
       "      <td>0</td>\n",
       "      <td>NaN</td>\n",
       "      <td>29</td>\n",
       "      <td>False</td>\n",
       "    </tr>\n",
       "    <tr>\n",
       "      <th>1</th>\n",
       "      <td>2</td>\n",
       "      <td>10006</td>\n",
       "      <td>1459541791</td>\n",
       "      <td>L</td>\n",
       "      <td>MLO</td>\n",
       "      <td>61.0</td>\n",
       "      <td>0</td>\n",
       "      <td>0</td>\n",
       "      <td>0</td>\n",
       "      <td>NaN</td>\n",
       "      <td>0</td>\n",
       "      <td>NaN</td>\n",
       "      <td>29</td>\n",
       "      <td>False</td>\n",
       "    </tr>\n",
       "    <tr>\n",
       "      <th>2</th>\n",
       "      <td>2</td>\n",
       "      <td>10006</td>\n",
       "      <td>1864590858</td>\n",
       "      <td>R</td>\n",
       "      <td>MLO</td>\n",
       "      <td>61.0</td>\n",
       "      <td>0</td>\n",
       "      <td>0</td>\n",
       "      <td>0</td>\n",
       "      <td>NaN</td>\n",
       "      <td>0</td>\n",
       "      <td>NaN</td>\n",
       "      <td>29</td>\n",
       "      <td>False</td>\n",
       "    </tr>\n",
       "    <tr>\n",
       "      <th>3</th>\n",
       "      <td>2</td>\n",
       "      <td>10006</td>\n",
       "      <td>1874946579</td>\n",
       "      <td>R</td>\n",
       "      <td>CC</td>\n",
       "      <td>61.0</td>\n",
       "      <td>0</td>\n",
       "      <td>0</td>\n",
       "      <td>0</td>\n",
       "      <td>NaN</td>\n",
       "      <td>0</td>\n",
       "      <td>NaN</td>\n",
       "      <td>29</td>\n",
       "      <td>False</td>\n",
       "    </tr>\n",
       "    <tr>\n",
       "      <th>4</th>\n",
       "      <td>2</td>\n",
       "      <td>10011</td>\n",
       "      <td>220375232</td>\n",
       "      <td>L</td>\n",
       "      <td>CC</td>\n",
       "      <td>55.0</td>\n",
       "      <td>0</td>\n",
       "      <td>0</td>\n",
       "      <td>0</td>\n",
       "      <td>0.0</td>\n",
       "      <td>0</td>\n",
       "      <td>NaN</td>\n",
       "      <td>21</td>\n",
       "      <td>True</td>\n",
       "    </tr>\n",
       "    <tr>\n",
       "      <th>...</th>\n",
       "      <td>...</td>\n",
       "      <td>...</td>\n",
       "      <td>...</td>\n",
       "      <td>...</td>\n",
       "      <td>...</td>\n",
       "      <td>...</td>\n",
       "      <td>...</td>\n",
       "      <td>...</td>\n",
       "      <td>...</td>\n",
       "      <td>...</td>\n",
       "      <td>...</td>\n",
       "      <td>...</td>\n",
       "      <td>...</td>\n",
       "      <td>...</td>\n",
       "    </tr>\n",
       "    <tr>\n",
       "      <th>54701</th>\n",
       "      <td>1</td>\n",
       "      <td>9973</td>\n",
       "      <td>1729524723</td>\n",
       "      <td>R</td>\n",
       "      <td>MLO</td>\n",
       "      <td>43.0</td>\n",
       "      <td>0</td>\n",
       "      <td>0</td>\n",
       "      <td>0</td>\n",
       "      <td>1.0</td>\n",
       "      <td>0</td>\n",
       "      <td>C</td>\n",
       "      <td>49</td>\n",
       "      <td>False</td>\n",
       "    </tr>\n",
       "    <tr>\n",
       "      <th>54702</th>\n",
       "      <td>1</td>\n",
       "      <td>9989</td>\n",
       "      <td>63473691</td>\n",
       "      <td>L</td>\n",
       "      <td>MLO</td>\n",
       "      <td>60.0</td>\n",
       "      <td>0</td>\n",
       "      <td>0</td>\n",
       "      <td>0</td>\n",
       "      <td>NaN</td>\n",
       "      <td>0</td>\n",
       "      <td>C</td>\n",
       "      <td>216</td>\n",
       "      <td>False</td>\n",
       "    </tr>\n",
       "    <tr>\n",
       "      <th>54703</th>\n",
       "      <td>1</td>\n",
       "      <td>9989</td>\n",
       "      <td>1078943060</td>\n",
       "      <td>L</td>\n",
       "      <td>CC</td>\n",
       "      <td>60.0</td>\n",
       "      <td>0</td>\n",
       "      <td>0</td>\n",
       "      <td>0</td>\n",
       "      <td>NaN</td>\n",
       "      <td>0</td>\n",
       "      <td>C</td>\n",
       "      <td>216</td>\n",
       "      <td>False</td>\n",
       "    </tr>\n",
       "    <tr>\n",
       "      <th>54704</th>\n",
       "      <td>1</td>\n",
       "      <td>9989</td>\n",
       "      <td>398038886</td>\n",
       "      <td>R</td>\n",
       "      <td>MLO</td>\n",
       "      <td>60.0</td>\n",
       "      <td>0</td>\n",
       "      <td>0</td>\n",
       "      <td>0</td>\n",
       "      <td>0.0</td>\n",
       "      <td>0</td>\n",
       "      <td>C</td>\n",
       "      <td>216</td>\n",
       "      <td>True</td>\n",
       "    </tr>\n",
       "    <tr>\n",
       "      <th>54705</th>\n",
       "      <td>1</td>\n",
       "      <td>9989</td>\n",
       "      <td>439796429</td>\n",
       "      <td>R</td>\n",
       "      <td>CC</td>\n",
       "      <td>60.0</td>\n",
       "      <td>0</td>\n",
       "      <td>0</td>\n",
       "      <td>0</td>\n",
       "      <td>0.0</td>\n",
       "      <td>0</td>\n",
       "      <td>C</td>\n",
       "      <td>216</td>\n",
       "      <td>True</td>\n",
       "    </tr>\n",
       "  </tbody>\n",
       "</table>\n",
       "<p>54706 rows × 14 columns</p>\n",
       "</div>"
      ],
      "text/plain": [
       "       site_id  patient_id    image_id laterality view   age  cancer  biopsy  \\\n",
       "0            2       10006   462822612          L   CC  61.0       0       0   \n",
       "1            2       10006  1459541791          L  MLO  61.0       0       0   \n",
       "2            2       10006  1864590858          R  MLO  61.0       0       0   \n",
       "3            2       10006  1874946579          R   CC  61.0       0       0   \n",
       "4            2       10011   220375232          L   CC  55.0       0       0   \n",
       "...        ...         ...         ...        ...  ...   ...     ...     ...   \n",
       "54701        1        9973  1729524723          R  MLO  43.0       0       0   \n",
       "54702        1        9989    63473691          L  MLO  60.0       0       0   \n",
       "54703        1        9989  1078943060          L   CC  60.0       0       0   \n",
       "54704        1        9989   398038886          R  MLO  60.0       0       0   \n",
       "54705        1        9989   439796429          R   CC  60.0       0       0   \n",
       "\n",
       "       invasive  BIRADS  implant density  machine_id  difficult_negative_case  \n",
       "0             0     NaN        0     NaN          29                    False  \n",
       "1             0     NaN        0     NaN          29                    False  \n",
       "2             0     NaN        0     NaN          29                    False  \n",
       "3             0     NaN        0     NaN          29                    False  \n",
       "4             0     0.0        0     NaN          21                     True  \n",
       "...         ...     ...      ...     ...         ...                      ...  \n",
       "54701         0     1.0        0       C          49                    False  \n",
       "54702         0     NaN        0       C         216                    False  \n",
       "54703         0     NaN        0       C         216                    False  \n",
       "54704         0     0.0        0       C         216                     True  \n",
       "54705         0     0.0        0       C         216                     True  \n",
       "\n",
       "[54706 rows x 14 columns]"
      ]
     },
     "execution_count": 2,
     "metadata": {},
     "output_type": "execute_result"
    }
   ],
   "source": [
    "# Take a look at train.csv\n",
    "train_df_dir = \"/kaggle/input/rsna-breast-cancer-detection/train.csv\"\n",
    "train_df = pd.read_csv(train_df_dir)\n",
    "train_df"
   ]
  },
  {
   "cell_type": "markdown",
   "id": "896df47d",
   "metadata": {
    "papermill": {
     "duration": 0.009144,
     "end_time": "2023-03-10T16:03:37.252683",
     "exception": false,
     "start_time": "2023-03-10T16:03:37.243539",
     "status": "completed"
    },
    "tags": []
   },
   "source": [
    "# Description of columns\n",
    "* **site_id** - ID code for the source hospital.\n",
    "* **patient_id** - ID code for the patient.\n",
    "* **image_id** - ID code for the image.\n",
    "* **laterality** - Whether the image is of the left or right breast.\n",
    "* **view** - The orientation of the image. The default for a screening exam is to capture two views per breast.\n",
    "* **age** - The patient's age in years.\n",
    "* **implant** - Whether or not the patient had breast implants. Site 1 only provides breast implant information at the patient level, not at the breast level.\n",
    "* **density** - A rating for how dense the breast tissue is, with A being the least dense and D being the most dense. Extremely dense tissue can make diagnosis more difficult. Only provided for train.\n",
    "* **machine_id** - An ID code for the imaging device.\n",
    "* **cancer** - Whether or not the breast was positive for malignant cancer. The target value. Only provided for train.\n",
    "* **biopsy** - Whether or not a follow-up biopsy was performed on the breast. Only provided for train.\n",
    "* **invasive** - If the breast is positive for cancer, whether or not the cancer proved to be invasive. Only provided for train.\n",
    "* **BIRADS** - 0 if the breast required follow-up, 1 if the breast was rated as negative for cancer, and 2 if the breast was rated as normal. Only provided for train.\n",
    "* **prediction_id** - The ID for the matching submission row. Multiple images will share the same prediction ID. Test only.\n",
    "* **difficult_negative_case** - True if the case was unusually difficult. Only provided for train."
   ]
  },
  {
   "cell_type": "code",
   "execution_count": 3,
   "id": "b12ac44d",
   "metadata": {
    "execution": {
     "iopub.execute_input": "2023-03-10T16:03:37.273720Z",
     "iopub.status.busy": "2023-03-10T16:03:37.272759Z",
     "iopub.status.idle": "2023-03-10T16:03:37.305729Z",
     "shell.execute_reply": "2023-03-10T16:03:37.304431Z"
    },
    "papermill": {
     "duration": 0.046068,
     "end_time": "2023-03-10T16:03:37.308153",
     "exception": false,
     "start_time": "2023-03-10T16:03:37.262085",
     "status": "completed"
    },
    "tags": []
   },
   "outputs": [
    {
     "name": "stdout",
     "output_type": "stream",
     "text": [
      "<class 'pandas.core.frame.DataFrame'>\n",
      "RangeIndex: 54706 entries, 0 to 54705\n",
      "Data columns (total 14 columns):\n",
      " #   Column                   Non-Null Count  Dtype  \n",
      "---  ------                   --------------  -----  \n",
      " 0   site_id                  54706 non-null  int64  \n",
      " 1   patient_id               54706 non-null  int64  \n",
      " 2   image_id                 54706 non-null  int64  \n",
      " 3   laterality               54706 non-null  object \n",
      " 4   view                     54706 non-null  object \n",
      " 5   age                      54669 non-null  float64\n",
      " 6   cancer                   54706 non-null  int64  \n",
      " 7   biopsy                   54706 non-null  int64  \n",
      " 8   invasive                 54706 non-null  int64  \n",
      " 9   BIRADS                   26286 non-null  float64\n",
      " 10  implant                  54706 non-null  int64  \n",
      " 11  density                  29470 non-null  object \n",
      " 12  machine_id               54706 non-null  int64  \n",
      " 13  difficult_negative_case  54706 non-null  bool   \n",
      "dtypes: bool(1), float64(2), int64(8), object(3)\n",
      "memory usage: 5.5+ MB\n"
     ]
    }
   ],
   "source": [
    "# Take a look at types of columns\n",
    "train_df.info()"
   ]
  },
  {
   "cell_type": "markdown",
   "id": "6d73177b",
   "metadata": {
    "papermill": {
     "duration": 0.009092,
     "end_time": "2023-03-10T16:03:37.326716",
     "exception": false,
     "start_time": "2023-03-10T16:03:37.317624",
     "status": "completed"
    },
    "tags": []
   },
   "source": [
    "<p id=\"part3-1\"></p>\n",
    "\n",
    "<p style=\"font-family: Times New Roman; font-size: 20px; font-style: bold; font-weight: bold; letter-spacing: 0px; color: #0000FF\">3-1 Label encoding</p>\n",
    "<hr style=\"height: 1px; border: 1; background-color: #0000FF\">"
   ]
  },
  {
   "cell_type": "code",
   "execution_count": 4,
   "id": "b1cba96d",
   "metadata": {
    "execution": {
     "iopub.execute_input": "2023-03-10T16:03:37.347737Z",
     "iopub.status.busy": "2023-03-10T16:03:37.347274Z",
     "iopub.status.idle": "2023-03-10T16:03:37.422526Z",
     "shell.execute_reply": "2023-03-10T16:03:37.421530Z"
    },
    "papermill": {
     "duration": 0.088932,
     "end_time": "2023-03-10T16:03:37.425093",
     "exception": false,
     "start_time": "2023-03-10T16:03:37.336161",
     "status": "completed"
    },
    "tags": []
   },
   "outputs": [
    {
     "data": {
      "text/html": [
       "<div>\n",
       "<style scoped>\n",
       "    .dataframe tbody tr th:only-of-type {\n",
       "        vertical-align: middle;\n",
       "    }\n",
       "\n",
       "    .dataframe tbody tr th {\n",
       "        vertical-align: top;\n",
       "    }\n",
       "\n",
       "    .dataframe thead th {\n",
       "        text-align: right;\n",
       "    }\n",
       "</style>\n",
       "<table border=\"1\" class=\"dataframe\">\n",
       "  <thead>\n",
       "    <tr style=\"text-align: right;\">\n",
       "      <th></th>\n",
       "      <th>site_id</th>\n",
       "      <th>patient_id</th>\n",
       "      <th>image_id</th>\n",
       "      <th>laterality</th>\n",
       "      <th>view</th>\n",
       "      <th>age</th>\n",
       "      <th>cancer</th>\n",
       "      <th>biopsy</th>\n",
       "      <th>invasive</th>\n",
       "      <th>BIRADS</th>\n",
       "      <th>implant</th>\n",
       "      <th>density</th>\n",
       "      <th>machine_id</th>\n",
       "      <th>difficult_negative_case</th>\n",
       "    </tr>\n",
       "  </thead>\n",
       "  <tbody>\n",
       "    <tr>\n",
       "      <th>0</th>\n",
       "      <td>2</td>\n",
       "      <td>10006</td>\n",
       "      <td>462822612</td>\n",
       "      <td>0</td>\n",
       "      <td>1</td>\n",
       "      <td>61.0</td>\n",
       "      <td>0</td>\n",
       "      <td>0</td>\n",
       "      <td>0</td>\n",
       "      <td>NaN</td>\n",
       "      <td>0</td>\n",
       "      <td>4</td>\n",
       "      <td>29</td>\n",
       "      <td>0</td>\n",
       "    </tr>\n",
       "    <tr>\n",
       "      <th>1</th>\n",
       "      <td>2</td>\n",
       "      <td>10006</td>\n",
       "      <td>1459541791</td>\n",
       "      <td>0</td>\n",
       "      <td>5</td>\n",
       "      <td>61.0</td>\n",
       "      <td>0</td>\n",
       "      <td>0</td>\n",
       "      <td>0</td>\n",
       "      <td>NaN</td>\n",
       "      <td>0</td>\n",
       "      <td>4</td>\n",
       "      <td>29</td>\n",
       "      <td>0</td>\n",
       "    </tr>\n",
       "    <tr>\n",
       "      <th>2</th>\n",
       "      <td>2</td>\n",
       "      <td>10006</td>\n",
       "      <td>1864590858</td>\n",
       "      <td>1</td>\n",
       "      <td>5</td>\n",
       "      <td>61.0</td>\n",
       "      <td>0</td>\n",
       "      <td>0</td>\n",
       "      <td>0</td>\n",
       "      <td>NaN</td>\n",
       "      <td>0</td>\n",
       "      <td>4</td>\n",
       "      <td>29</td>\n",
       "      <td>0</td>\n",
       "    </tr>\n",
       "    <tr>\n",
       "      <th>3</th>\n",
       "      <td>2</td>\n",
       "      <td>10006</td>\n",
       "      <td>1874946579</td>\n",
       "      <td>1</td>\n",
       "      <td>1</td>\n",
       "      <td>61.0</td>\n",
       "      <td>0</td>\n",
       "      <td>0</td>\n",
       "      <td>0</td>\n",
       "      <td>NaN</td>\n",
       "      <td>0</td>\n",
       "      <td>4</td>\n",
       "      <td>29</td>\n",
       "      <td>0</td>\n",
       "    </tr>\n",
       "    <tr>\n",
       "      <th>4</th>\n",
       "      <td>2</td>\n",
       "      <td>10011</td>\n",
       "      <td>220375232</td>\n",
       "      <td>0</td>\n",
       "      <td>1</td>\n",
       "      <td>55.0</td>\n",
       "      <td>0</td>\n",
       "      <td>0</td>\n",
       "      <td>0</td>\n",
       "      <td>0.0</td>\n",
       "      <td>0</td>\n",
       "      <td>4</td>\n",
       "      <td>21</td>\n",
       "      <td>1</td>\n",
       "    </tr>\n",
       "    <tr>\n",
       "      <th>...</th>\n",
       "      <td>...</td>\n",
       "      <td>...</td>\n",
       "      <td>...</td>\n",
       "      <td>...</td>\n",
       "      <td>...</td>\n",
       "      <td>...</td>\n",
       "      <td>...</td>\n",
       "      <td>...</td>\n",
       "      <td>...</td>\n",
       "      <td>...</td>\n",
       "      <td>...</td>\n",
       "      <td>...</td>\n",
       "      <td>...</td>\n",
       "      <td>...</td>\n",
       "    </tr>\n",
       "    <tr>\n",
       "      <th>54701</th>\n",
       "      <td>1</td>\n",
       "      <td>9973</td>\n",
       "      <td>1729524723</td>\n",
       "      <td>1</td>\n",
       "      <td>5</td>\n",
       "      <td>43.0</td>\n",
       "      <td>0</td>\n",
       "      <td>0</td>\n",
       "      <td>0</td>\n",
       "      <td>1.0</td>\n",
       "      <td>0</td>\n",
       "      <td>2</td>\n",
       "      <td>49</td>\n",
       "      <td>0</td>\n",
       "    </tr>\n",
       "    <tr>\n",
       "      <th>54702</th>\n",
       "      <td>1</td>\n",
       "      <td>9989</td>\n",
       "      <td>63473691</td>\n",
       "      <td>0</td>\n",
       "      <td>5</td>\n",
       "      <td>60.0</td>\n",
       "      <td>0</td>\n",
       "      <td>0</td>\n",
       "      <td>0</td>\n",
       "      <td>NaN</td>\n",
       "      <td>0</td>\n",
       "      <td>2</td>\n",
       "      <td>216</td>\n",
       "      <td>0</td>\n",
       "    </tr>\n",
       "    <tr>\n",
       "      <th>54703</th>\n",
       "      <td>1</td>\n",
       "      <td>9989</td>\n",
       "      <td>1078943060</td>\n",
       "      <td>0</td>\n",
       "      <td>1</td>\n",
       "      <td>60.0</td>\n",
       "      <td>0</td>\n",
       "      <td>0</td>\n",
       "      <td>0</td>\n",
       "      <td>NaN</td>\n",
       "      <td>0</td>\n",
       "      <td>2</td>\n",
       "      <td>216</td>\n",
       "      <td>0</td>\n",
       "    </tr>\n",
       "    <tr>\n",
       "      <th>54704</th>\n",
       "      <td>1</td>\n",
       "      <td>9989</td>\n",
       "      <td>398038886</td>\n",
       "      <td>1</td>\n",
       "      <td>5</td>\n",
       "      <td>60.0</td>\n",
       "      <td>0</td>\n",
       "      <td>0</td>\n",
       "      <td>0</td>\n",
       "      <td>0.0</td>\n",
       "      <td>0</td>\n",
       "      <td>2</td>\n",
       "      <td>216</td>\n",
       "      <td>1</td>\n",
       "    </tr>\n",
       "    <tr>\n",
       "      <th>54705</th>\n",
       "      <td>1</td>\n",
       "      <td>9989</td>\n",
       "      <td>439796429</td>\n",
       "      <td>1</td>\n",
       "      <td>1</td>\n",
       "      <td>60.0</td>\n",
       "      <td>0</td>\n",
       "      <td>0</td>\n",
       "      <td>0</td>\n",
       "      <td>0.0</td>\n",
       "      <td>0</td>\n",
       "      <td>2</td>\n",
       "      <td>216</td>\n",
       "      <td>1</td>\n",
       "    </tr>\n",
       "  </tbody>\n",
       "</table>\n",
       "<p>54706 rows × 14 columns</p>\n",
       "</div>"
      ],
      "text/plain": [
       "       site_id  patient_id    image_id  laterality  view   age  cancer  \\\n",
       "0            2       10006   462822612           0     1  61.0       0   \n",
       "1            2       10006  1459541791           0     5  61.0       0   \n",
       "2            2       10006  1864590858           1     5  61.0       0   \n",
       "3            2       10006  1874946579           1     1  61.0       0   \n",
       "4            2       10011   220375232           0     1  55.0       0   \n",
       "...        ...         ...         ...         ...   ...   ...     ...   \n",
       "54701        1        9973  1729524723           1     5  43.0       0   \n",
       "54702        1        9989    63473691           0     5  60.0       0   \n",
       "54703        1        9989  1078943060           0     1  60.0       0   \n",
       "54704        1        9989   398038886           1     5  60.0       0   \n",
       "54705        1        9989   439796429           1     1  60.0       0   \n",
       "\n",
       "       biopsy  invasive  BIRADS  implant  density  machine_id  \\\n",
       "0           0         0     NaN        0        4          29   \n",
       "1           0         0     NaN        0        4          29   \n",
       "2           0         0     NaN        0        4          29   \n",
       "3           0         0     NaN        0        4          29   \n",
       "4           0         0     0.0        0        4          21   \n",
       "...       ...       ...     ...      ...      ...         ...   \n",
       "54701       0         0     1.0        0        2          49   \n",
       "54702       0         0     NaN        0        2         216   \n",
       "54703       0         0     NaN        0        2         216   \n",
       "54704       0         0     0.0        0        2         216   \n",
       "54705       0         0     0.0        0        2         216   \n",
       "\n",
       "       difficult_negative_case  \n",
       "0                            0  \n",
       "1                            0  \n",
       "2                            0  \n",
       "3                            0  \n",
       "4                            1  \n",
       "...                        ...  \n",
       "54701                        0  \n",
       "54702                        0  \n",
       "54703                        0  \n",
       "54704                        1  \n",
       "54705                        1  \n",
       "\n",
       "[54706 rows x 14 columns]"
      ]
     },
     "execution_count": 4,
     "metadata": {},
     "output_type": "execute_result"
    }
   ],
   "source": [
    "# As you can see we knee to use label encoding here.We need to encoding culomns whcih are objects\n",
    "lable_encoder = preprocessing.LabelEncoder()\n",
    "train_df[['laterality','view','density','difficult_negative_case']] = train_df[['laterality','view','density','difficult_negative_case']].apply(lable_encoder.fit_transform)\n",
    "train_df"
   ]
  },
  {
   "cell_type": "markdown",
   "id": "f35b5ef1",
   "metadata": {
    "papermill": {
     "duration": 0.009545,
     "end_time": "2023-03-10T16:03:37.444703",
     "exception": false,
     "start_time": "2023-03-10T16:03:37.435158",
     "status": "completed"
    },
    "tags": []
   },
   "source": [
    "<p id=\"part3-2\"></p>\n",
    "\n",
    "<p style=\"font-family: Times New Roman; font-size: 20px; font-style: bold; font-weight: bold; letter-spacing: 0px; color: #0000FF\">3-2 Useful information on datasets</p>\n",
    "<hr style=\"height: 1px; border: 1; background-color: #0000FF\">"
   ]
  },
  {
   "cell_type": "code",
   "execution_count": 5,
   "id": "57a0d401",
   "metadata": {
    "execution": {
     "iopub.execute_input": "2023-03-10T16:03:37.466499Z",
     "iopub.status.busy": "2023-03-10T16:03:37.466075Z",
     "iopub.status.idle": "2023-03-10T16:03:37.494917Z",
     "shell.execute_reply": "2023-03-10T16:03:37.493425Z"
    },
    "papermill": {
     "duration": 0.043491,
     "end_time": "2023-03-10T16:03:37.498083",
     "exception": false,
     "start_time": "2023-03-10T16:03:37.454592",
     "status": "completed"
    },
    "tags": []
   },
   "outputs": [
    {
     "data": {
      "text/html": [
       "<div>\n",
       "<style scoped>\n",
       "    .dataframe tbody tr th:only-of-type {\n",
       "        vertical-align: middle;\n",
       "    }\n",
       "\n",
       "    .dataframe tbody tr th {\n",
       "        vertical-align: top;\n",
       "    }\n",
       "\n",
       "    .dataframe thead th {\n",
       "        text-align: right;\n",
       "    }\n",
       "</style>\n",
       "<table border=\"1\" class=\"dataframe\">\n",
       "  <thead>\n",
       "    <tr style=\"text-align: right;\">\n",
       "      <th></th>\n",
       "      <th>No_of_hospitals</th>\n",
       "      <th>No_of_patients</th>\n",
       "      <th>No_of_images</th>\n",
       "      <th>No_ofcases_with_cancer</th>\n",
       "      <th>No_of_cases_without_cancer</th>\n",
       "      <th>No_of_cases_recgoznied_difficult</th>\n",
       "      <th>No_of_cases_not_recgoznied_difficult</th>\n",
       "      <th>Mean_age_of_pateients</th>\n",
       "    </tr>\n",
       "  </thead>\n",
       "  <tbody>\n",
       "    <tr>\n",
       "      <th>0</th>\n",
       "      <td>2</td>\n",
       "      <td>11913</td>\n",
       "      <td>54706</td>\n",
       "      <td>1158</td>\n",
       "      <td>53548</td>\n",
       "      <td>7705</td>\n",
       "      <td>47001</td>\n",
       "      <td>58.543928</td>\n",
       "    </tr>\n",
       "  </tbody>\n",
       "</table>\n",
       "</div>"
      ],
      "text/plain": [
       "   No_of_hospitals  No_of_patients   No_of_images  No_ofcases_with_cancer  \\\n",
       "0                2            11913         54706                    1158   \n",
       "\n",
       "   No_of_cases_without_cancer  No_of_cases_recgoznied_difficult  \\\n",
       "0                       53548                              7705   \n",
       "\n",
       "   No_of_cases_not_recgoznied_difficult  Mean_age_of_pateients  \n",
       "0                                 47001              58.543928  "
      ]
     },
     "execution_count": 5,
     "metadata": {},
     "output_type": "execute_result"
    }
   ],
   "source": [
    "Cases_with_cancer = np.where(train_df.cancer==1)\n",
    "Cases_without_cancer = np.where(train_df.cancer==0)\n",
    "Cases_particularly_difficult = np.where(train_df.difficult_negative_case==1)\n",
    "Cases_not_particularly_difficult = np.where(train_df.difficult_negative_case==0)\n",
    "No_of_hospitals = len(pd.unique(train_df.site_id))\n",
    "No_of_patients = len(pd.unique(train_df.patient_id))\n",
    "No_of_images = len(pd.unique(train_df.image_id))\n",
    "No_of_cases_with_cancer = len(Cases_with_cancer[0])\n",
    "No_of_cases_without_cancer = len(Cases_without_cancer[0])\n",
    "No_of_cases_recgoznied_difficult= len(Cases_particularly_difficult[0])\n",
    "No_of_cases_not_recgoznied_difficult = len(Cases_not_particularly_difficult[0])\n",
    "Mean_age_of_pateients = np.mean(train_df.age)\n",
    "\n",
    "\n",
    "\n",
    "useful_data = {'No_of_hospitals':No_of_hospitals,'No_of_patients ':No_of_patients ,\n",
    "     'No_of_images':No_of_images,'No_ofcases_with_cancer':No_of_cases_with_cancer,\n",
    "     'No_of_cases_without_cancer':No_of_cases_without_cancer,'No_of_cases_recgoznied_difficult':No_of_cases_recgoznied_difficult,\n",
    "     'No_of_cases_not_recgoznied_difficult':No_of_cases_not_recgoznied_difficult,'Mean_age_of_pateients':Mean_age_of_pateients}\n",
    "\n",
    "usefull_data = pd.DataFrame(useful_data, index=[0])\n",
    "usefull_data"
   ]
  },
  {
   "cell_type": "markdown",
   "id": "8003fd05",
   "metadata": {
    "papermill": {
     "duration": 0.009747,
     "end_time": "2023-03-10T16:03:37.518047",
     "exception": false,
     "start_time": "2023-03-10T16:03:37.508300",
     "status": "completed"
    },
    "tags": []
   },
   "source": [
    "<p id=\"part3-3\"></p>\n",
    "\n",
    "<p style=\"font-family: Times New Roman; font-size: 20px; font-style: bold; font-weight: bold; letter-spacing: 0px; color: #0000FF\">3-3 Filling missing values</p>\n",
    "<hr style=\"height: 1px; border: 1; background-color: #0000FF\">"
   ]
  },
  {
   "cell_type": "markdown",
   "id": "6b84c95e",
   "metadata": {
    "papermill": {
     "duration": 0.010229,
     "end_time": "2023-03-10T16:03:37.538328",
     "exception": false,
     "start_time": "2023-03-10T16:03:37.528099",
     "status": "completed"
    },
    "tags": []
   },
   "source": [
    "First, we must take a look Null/NaN values in diffrent columns . Then, try to fill them with appropriate values"
   ]
  },
  {
   "cell_type": "code",
   "execution_count": 6,
   "id": "88784c62",
   "metadata": {
    "execution": {
     "iopub.execute_input": "2023-03-10T16:03:37.561945Z",
     "iopub.status.busy": "2023-03-10T16:03:37.561227Z",
     "iopub.status.idle": "2023-03-10T16:03:37.572127Z",
     "shell.execute_reply": "2023-03-10T16:03:37.571138Z"
    },
    "papermill": {
     "duration": 0.024822,
     "end_time": "2023-03-10T16:03:37.574363",
     "exception": false,
     "start_time": "2023-03-10T16:03:37.549541",
     "status": "completed"
    },
    "tags": []
   },
   "outputs": [
    {
     "data": {
      "text/plain": [
       "site_id                        0\n",
       "patient_id                     0\n",
       "image_id                       0\n",
       "laterality                     0\n",
       "view                           0\n",
       "age                           37\n",
       "cancer                         0\n",
       "biopsy                         0\n",
       "invasive                       0\n",
       "BIRADS                     28420\n",
       "implant                        0\n",
       "density                        0\n",
       "machine_id                     0\n",
       "difficult_negative_case        0\n",
       "dtype: int64"
      ]
     },
     "execution_count": 6,
     "metadata": {},
     "output_type": "execute_result"
    }
   ],
   "source": [
    "# Show how many Null/NaN values we have in dataset\n",
    "pd.isnull(train_df).sum()"
   ]
  },
  {
   "cell_type": "markdown",
   "id": "84ba8736",
   "metadata": {
    "papermill": {
     "duration": 0.009845,
     "end_time": "2023-03-10T16:03:37.594527",
     "exception": false,
     "start_time": "2023-03-10T16:03:37.584682",
     "status": "completed"
    },
    "tags": []
   },
   "source": [
    "<p id=\"part3-3-1\"></p>\n",
    "\n",
    "<p style=\"font-family: Times New Roman; font-size: 20px; font-style: bold; font-weight: bold; letter-spacing: 0px; color: #0000FF\">3-3-1 Filling age values</p>\n",
    "<hr style=\"height: 1px; border: 1; background-color: #0000FF\">"
   ]
  },
  {
   "cell_type": "markdown",
   "id": "cf0e398a",
   "metadata": {
    "papermill": {
     "duration": 0.009918,
     "end_time": "2023-03-10T16:03:37.614602",
     "exception": false,
     "start_time": "2023-03-10T16:03:37.604684",
     "status": "completed"
    },
    "tags": []
   },
   "source": [
    "Use linear regreesion to predict NaN/Null values in age column"
   ]
  },
  {
   "cell_type": "code",
   "execution_count": 7,
   "id": "5d71466d",
   "metadata": {
    "execution": {
     "iopub.execute_input": "2023-03-10T16:03:37.637478Z",
     "iopub.status.busy": "2023-03-10T16:03:37.636326Z",
     "iopub.status.idle": "2023-03-10T16:03:37.841990Z",
     "shell.execute_reply": "2023-03-10T16:03:37.840581Z"
    },
    "papermill": {
     "duration": 0.221815,
     "end_time": "2023-03-10T16:03:37.846625",
     "exception": false,
     "start_time": "2023-03-10T16:03:37.624810",
     "status": "completed"
    },
    "tags": []
   },
   "outputs": [
    {
     "name": "stdout",
     "output_type": "stream",
     "text": [
      "Here, you can see predicetd ages for missing values in main dataset\n",
      "--------------------------------------------------\n",
      "[57.83284002 57.83284002 57.83284002 57.83284002 57.83284002 57.83284002\n",
      " 57.83284002 57.83284002 57.83284002 57.83284002 55.26736597 55.26736597\n",
      " 57.83284002 57.83284002 57.83284002 57.83284002 57.83284002 57.83284002\n",
      " 57.83284002 57.83284002 55.26736597 55.26736597 55.26736597 57.83284002\n",
      " 57.83284002 57.83284002 55.26736597 55.26736597 57.83284002 57.83284002\n",
      " 57.83284002 57.83284002 57.83284002 57.83284002 57.83284002 57.83284002\n",
      " 57.83284002]\n"
     ]
    }
   ],
   "source": [
    "from sklearn.linear_model import LinearRegression\n",
    "li = LinearRegression()\n",
    "# With the help of correlation matrix, we could understand that fetures site_id, cancer, invasive, implant and difficult\n",
    "# are more important than others on age target. So, we creat a dataframe with these feautre and age target\n",
    "\n",
    "new_dataframe_with_null = train_df[['site_id','cancer','invasive','implant','difficult_negative_case','age']]\n",
    "new_dataframe_without_null = train_df[['site_id','cancer','invasive','implant','difficult_negative_case','age']].dropna()\n",
    "\n",
    "# set x_train and y_train\n",
    "x_train = new_dataframe_without_null.iloc[:,:5] # 'site_id','cancer','invasive','implant','difficult_negative_case'\n",
    "y_train = new_dataframe_without_null.iloc[:,-1]  # 'age'\n",
    "\n",
    "# Set x_test, inculdig parameters where age == null\n",
    "x_test = new_dataframe_with_null[new_dataframe_with_null['age'].isnull()].drop(columns='age')\n",
    "\n",
    "# Run model\n",
    "li.fit(x_train,y_train)\n",
    "\n",
    "# Predict on x_test\n",
    "predicted = li.predict(x_test)\n",
    "print('Here, you can see predicetd ages for missing values in main dataset')\n",
    "print(f'-'*50)\n",
    "print(predicted)"
   ]
  },
  {
   "cell_type": "code",
   "execution_count": 8,
   "id": "1db99edd",
   "metadata": {
    "execution": {
     "iopub.execute_input": "2023-03-10T16:03:37.883725Z",
     "iopub.status.busy": "2023-03-10T16:03:37.883034Z",
     "iopub.status.idle": "2023-03-10T16:03:37.892115Z",
     "shell.execute_reply": "2023-03-10T16:03:37.890631Z"
    },
    "papermill": {
     "duration": 0.032657,
     "end_time": "2023-03-10T16:03:37.897155",
     "exception": false,
     "start_time": "2023-03-10T16:03:37.864498",
     "status": "completed"
    },
    "tags": []
   },
   "outputs": [],
   "source": [
    "# fill missing age values with predicted\n",
    "train_df.loc[train_df.age.isnull(), 'age'] = predicted"
   ]
  },
  {
   "cell_type": "code",
   "execution_count": 9,
   "id": "ebd51b8f",
   "metadata": {
    "execution": {
     "iopub.execute_input": "2023-03-10T16:03:37.932871Z",
     "iopub.status.busy": "2023-03-10T16:03:37.932184Z",
     "iopub.status.idle": "2023-03-10T16:03:37.948290Z",
     "shell.execute_reply": "2023-03-10T16:03:37.947309Z"
    },
    "papermill": {
     "duration": 0.036743,
     "end_time": "2023-03-10T16:03:37.950717",
     "exception": false,
     "start_time": "2023-03-10T16:03:37.913974",
     "status": "completed"
    },
    "tags": []
   },
   "outputs": [
    {
     "data": {
      "text/plain": [
       "site_id                        0\n",
       "patient_id                     0\n",
       "image_id                       0\n",
       "laterality                     0\n",
       "view                           0\n",
       "age                            0\n",
       "cancer                         0\n",
       "biopsy                         0\n",
       "invasive                       0\n",
       "BIRADS                     28420\n",
       "implant                        0\n",
       "density                        0\n",
       "machine_id                     0\n",
       "difficult_negative_case        0\n",
       "dtype: int64"
      ]
     },
     "execution_count": 9,
     "metadata": {},
     "output_type": "execute_result"
    }
   ],
   "source": [
    "train_df.isnull().sum()"
   ]
  },
  {
   "cell_type": "markdown",
   "id": "dba1fcf5",
   "metadata": {
    "papermill": {
     "duration": 0.01009,
     "end_time": "2023-03-10T16:03:37.971177",
     "exception": false,
     "start_time": "2023-03-10T16:03:37.961087",
     "status": "completed"
    },
    "tags": []
   },
   "source": [
    "<p id=\"part3-3-2\"></p>\n",
    "\n",
    "<p style=\"font-family: Times New Roman; font-size: 20px; font-style: bold; font-weight: bold; letter-spacing: 0px; color: #0000FF\">3-3-2 Filling BIRADS values</p>\n",
    "<hr style=\"height: 1px; border: 1; background-color: #0000FF\">"
   ]
  },
  {
   "cell_type": "markdown",
   "id": "623ac9d7",
   "metadata": {
    "papermill": {
     "duration": 0.011021,
     "end_time": "2023-03-10T16:03:37.992539",
     "exception": false,
     "start_time": "2023-03-10T16:03:37.981518",
     "status": "completed"
    },
    "tags": []
   },
   "source": [
    "Use Knn algorithm to predicted BIRADS"
   ]
  },
  {
   "cell_type": "code",
   "execution_count": 10,
   "id": "2aabc938",
   "metadata": {
    "execution": {
     "iopub.execute_input": "2023-03-10T16:03:38.014885Z",
     "iopub.status.busy": "2023-03-10T16:03:38.014498Z",
     "iopub.status.idle": "2023-03-10T16:03:39.693869Z",
     "shell.execute_reply": "2023-03-10T16:03:39.692401Z"
    },
    "papermill": {
     "duration": 1.693978,
     "end_time": "2023-03-10T16:03:39.696833",
     "exception": false,
     "start_time": "2023-03-10T16:03:38.002855",
     "status": "completed"
    },
    "tags": []
   },
   "outputs": [
    {
     "name": "stdout",
     "output_type": "stream",
     "text": [
      "Number of predicted values: 28420\n"
     ]
    },
    {
     "data": {
      "text/plain": [
       "array([0., 0., 0., ..., 0., 1., 1.])"
      ]
     },
     "execution_count": 10,
     "metadata": {},
     "output_type": "execute_result"
    }
   ],
   "source": [
    "from sklearn.neighbors import KNeighborsClassifier\n",
    "knn = KNeighborsClassifier(n_neighbors=3)\n",
    "\n",
    "#With the help of correlation matrix, we could understand that fetures 'cancer','invasive','difficult_negative_case','density','machine_id','biopsy'\n",
    "# are more important than others on 'BIRADS' target. So, we creat a dataframe with these feautre and 'BIRADS' target\n",
    "\n",
    "new_dataframe_with_null = train_df[['cancer','invasive','difficult_negative_case','density','machine_id','biopsy','BIRADS']]\n",
    "new_dataframe_without_null = train_df[['cancer','invasive','difficult_negative_case','density','machine_id','biopsy','BIRADS']].dropna()\n",
    "\n",
    "# set x_train and y_train\n",
    "x_train = new_dataframe_without_null.iloc[:,:6] # 'cancer','invasive','difficult_negative_case','density','machine_id','biopsy'\n",
    "y_train = new_dataframe_without_null.iloc[:,-1]  # 'BIRADS'\n",
    "\n",
    "# Run model\n",
    "knn.fit(x_train,y_train)\n",
    "\n",
    "# Set x_test, inculdig parameters where BIRADS == null\n",
    "x_test = new_dataframe_with_null[new_dataframe_with_null['BIRADS'].isnull()].drop(columns='BIRADS')\n",
    "\n",
    "# Predicted\n",
    "predicted = knn.predict(x_test)\n",
    "print('Number of predicted values:',len(predicted))\n",
    "predicted\n",
    "\n"
   ]
  },
  {
   "cell_type": "code",
   "execution_count": 11,
   "id": "b71d6c05",
   "metadata": {
    "execution": {
     "iopub.execute_input": "2023-03-10T16:03:39.721040Z",
     "iopub.status.busy": "2023-03-10T16:03:39.720651Z",
     "iopub.status.idle": "2023-03-10T16:03:39.727975Z",
     "shell.execute_reply": "2023-03-10T16:03:39.726698Z"
    },
    "papermill": {
     "duration": 0.022565,
     "end_time": "2023-03-10T16:03:39.730764",
     "exception": false,
     "start_time": "2023-03-10T16:03:39.708199",
     "status": "completed"
    },
    "tags": []
   },
   "outputs": [],
   "source": [
    "# fill missing BIRADS values with predicted\n",
    "train_df.loc[train_df.BIRADS.isnull(), 'BIRADS'] = predicted"
   ]
  },
  {
   "cell_type": "code",
   "execution_count": 12,
   "id": "5a529b48",
   "metadata": {
    "execution": {
     "iopub.execute_input": "2023-03-10T16:03:39.754278Z",
     "iopub.status.busy": "2023-03-10T16:03:39.753866Z",
     "iopub.status.idle": "2023-03-10T16:03:39.765723Z",
     "shell.execute_reply": "2023-03-10T16:03:39.764230Z"
    },
    "papermill": {
     "duration": 0.026554,
     "end_time": "2023-03-10T16:03:39.768318",
     "exception": false,
     "start_time": "2023-03-10T16:03:39.741764",
     "status": "completed"
    },
    "tags": []
   },
   "outputs": [
    {
     "data": {
      "text/plain": [
       "site_id                    0\n",
       "patient_id                 0\n",
       "image_id                   0\n",
       "laterality                 0\n",
       "view                       0\n",
       "age                        0\n",
       "cancer                     0\n",
       "biopsy                     0\n",
       "invasive                   0\n",
       "BIRADS                     0\n",
       "implant                    0\n",
       "density                    0\n",
       "machine_id                 0\n",
       "difficult_negative_case    0\n",
       "dtype: int64"
      ]
     },
     "execution_count": 12,
     "metadata": {},
     "output_type": "execute_result"
    }
   ],
   "source": [
    "train_df.isnull().sum()"
   ]
  },
  {
   "cell_type": "markdown",
   "id": "9faba664",
   "metadata": {
    "papermill": {
     "duration": 0.010435,
     "end_time": "2023-03-10T16:03:39.789795",
     "exception": false,
     "start_time": "2023-03-10T16:03:39.779360",
     "status": "completed"
    },
    "tags": []
   },
   "source": [
    "<p id=\"part3-4\"></p>\n",
    "\n",
    "<p style=\"font-family: Times New Roman; font-size: 20px; font-style: bold; font-weight: bold; letter-spacing: 0px; color: #0000FF\">3-4 Feature selection</p>\n",
    "<hr style=\"height: 1px; border: 1; background-color: #0000FF\">"
   ]
  },
  {
   "cell_type": "markdown",
   "id": "8700fd45",
   "metadata": {
    "papermill": {
     "duration": 0.010511,
     "end_time": "2023-03-10T16:03:39.811116",
     "exception": false,
     "start_time": "2023-03-10T16:03:39.800605",
     "status": "completed"
    },
    "tags": []
   },
   "source": [
    "Two common fueature selecetion are correlation matrix and mutual information/Gian Entropy"
   ]
  },
  {
   "cell_type": "markdown",
   "id": "4093106e",
   "metadata": {
    "papermill": {
     "duration": 0.010573,
     "end_time": "2023-03-10T16:03:39.832506",
     "exception": false,
     "start_time": "2023-03-10T16:03:39.821933",
     "status": "completed"
    },
    "tags": []
   },
   "source": [
    "<p id=\"part3-4-1\"></p>\n",
    "\n",
    "<p style=\"font-family: Times New Roman; font-size: 20px; font-style: bold; font-weight: bold; letter-spacing: 0px; color: #0000FF\">3-4-1 Correlation matrix</p>\n",
    "<hr style=\"height: 1px; border: 1; background-color: #0000FF\">"
   ]
  },
  {
   "cell_type": "code",
   "execution_count": 13,
   "id": "a34a8181",
   "metadata": {
    "execution": {
     "iopub.execute_input": "2023-03-10T16:03:39.856155Z",
     "iopub.status.busy": "2023-03-10T16:03:39.855768Z",
     "iopub.status.idle": "2023-03-10T16:03:41.459114Z",
     "shell.execute_reply": "2023-03-10T16:03:41.457844Z"
    },
    "papermill": {
     "duration": 1.620159,
     "end_time": "2023-03-10T16:03:41.463521",
     "exception": false,
     "start_time": "2023-03-10T16:03:39.843362",
     "status": "completed"
    },
    "tags": []
   },
   "outputs": [
    {
     "data": {
      "text/plain": [
       "<AxesSubplot:>"
      ]
     },
     "execution_count": 13,
     "metadata": {},
     "output_type": "execute_result"
    },
    {
     "data": {
      "image/png": "[encoded data removed]",
      "text/plain": [
       "<Figure size 1500x1200 with 2 Axes>"
      ]
     },
     "metadata": {},
     "output_type": "display_data"
    }
   ],
   "source": [
    "# We need to know the effect of fetures on each other and on traget\n",
    "f, ax = plt.subplots(figsize=(15, 12))\n",
    "corr = train_df.corr()\n",
    "sns.heatmap(corr,annot=True,linewidth=.5,\n",
    "            cmap='crest',\n",
    "            square=True, ax=ax)"
   ]
  },
  {
   "cell_type": "markdown",
   "id": "e345304f",
   "metadata": {
    "papermill": {
     "duration": 0.013453,
     "end_time": "2023-03-10T16:03:41.491326",
     "exception": false,
     "start_time": "2023-03-10T16:03:41.477873",
     "status": "completed"
    },
    "tags": []
   },
   "source": [
    "<p id=\"part3-4-2\"></p>\n",
    "\n",
    "<p style=\"font-family: Times New Roman; font-size: 20px; font-style: bold; font-weight: bold; letter-spacing: 0px; color: #0000FF\">3-4-2 Mutual Info/Gain Entropy</p>\n",
    "<hr style=\"height: 1px; border: 1; background-color: #0000FF\">"
   ]
  },
  {
   "cell_type": "code",
   "execution_count": 14,
   "id": "d38834f2",
   "metadata": {
    "execution": {
     "iopub.execute_input": "2023-03-10T16:03:41.521248Z",
     "iopub.status.busy": "2023-03-10T16:03:41.520859Z",
     "iopub.status.idle": "2023-03-10T16:03:41.542369Z",
     "shell.execute_reply": "2023-03-10T16:03:41.541068Z"
    },
    "papermill": {
     "duration": 0.039805,
     "end_time": "2023-03-10T16:03:41.544964",
     "exception": false,
     "start_time": "2023-03-10T16:03:41.505159",
     "status": "completed"
    },
    "tags": []
   },
   "outputs": [
    {
     "data": {
      "text/html": [
       "<div>\n",
       "<style scoped>\n",
       "    .dataframe tbody tr th:only-of-type {\n",
       "        vertical-align: middle;\n",
       "    }\n",
       "\n",
       "    .dataframe tbody tr th {\n",
       "        vertical-align: top;\n",
       "    }\n",
       "\n",
       "    .dataframe thead th {\n",
       "        text-align: right;\n",
       "    }\n",
       "</style>\n",
       "<table border=\"1\" class=\"dataframe\">\n",
       "  <thead>\n",
       "    <tr style=\"text-align: right;\">\n",
       "      <th></th>\n",
       "      <th>site_id</th>\n",
       "      <th>patient_id</th>\n",
       "      <th>image_id</th>\n",
       "      <th>laterality</th>\n",
       "      <th>view</th>\n",
       "      <th>age</th>\n",
       "      <th>cancer</th>\n",
       "      <th>biopsy</th>\n",
       "      <th>invasive</th>\n",
       "      <th>BIRADS</th>\n",
       "      <th>implant</th>\n",
       "      <th>density</th>\n",
       "      <th>machine_id</th>\n",
       "      <th>difficult_negative_case</th>\n",
       "    </tr>\n",
       "  </thead>\n",
       "  <tbody>\n",
       "    <tr>\n",
       "      <th>0</th>\n",
       "      <td>2</td>\n",
       "      <td>10006</td>\n",
       "      <td>462822612</td>\n",
       "      <td>0</td>\n",
       "      <td>1</td>\n",
       "      <td>61.0</td>\n",
       "      <td>0</td>\n",
       "      <td>0</td>\n",
       "      <td>0</td>\n",
       "      <td>0.0</td>\n",
       "      <td>0</td>\n",
       "      <td>4</td>\n",
       "      <td>29</td>\n",
       "      <td>0</td>\n",
       "    </tr>\n",
       "    <tr>\n",
       "      <th>1</th>\n",
       "      <td>2</td>\n",
       "      <td>10006</td>\n",
       "      <td>1459541791</td>\n",
       "      <td>0</td>\n",
       "      <td>5</td>\n",
       "      <td>61.0</td>\n",
       "      <td>0</td>\n",
       "      <td>0</td>\n",
       "      <td>0</td>\n",
       "      <td>0.0</td>\n",
       "      <td>0</td>\n",
       "      <td>4</td>\n",
       "      <td>29</td>\n",
       "      <td>0</td>\n",
       "    </tr>\n",
       "    <tr>\n",
       "      <th>2</th>\n",
       "      <td>2</td>\n",
       "      <td>10006</td>\n",
       "      <td>1864590858</td>\n",
       "      <td>1</td>\n",
       "      <td>5</td>\n",
       "      <td>61.0</td>\n",
       "      <td>0</td>\n",
       "      <td>0</td>\n",
       "      <td>0</td>\n",
       "      <td>0.0</td>\n",
       "      <td>0</td>\n",
       "      <td>4</td>\n",
       "      <td>29</td>\n",
       "      <td>0</td>\n",
       "    </tr>\n",
       "    <tr>\n",
       "      <th>3</th>\n",
       "      <td>2</td>\n",
       "      <td>10006</td>\n",
       "      <td>1874946579</td>\n",
       "      <td>1</td>\n",
       "      <td>1</td>\n",
       "      <td>61.0</td>\n",
       "      <td>0</td>\n",
       "      <td>0</td>\n",
       "      <td>0</td>\n",
       "      <td>0.0</td>\n",
       "      <td>0</td>\n",
       "      <td>4</td>\n",
       "      <td>29</td>\n",
       "      <td>0</td>\n",
       "    </tr>\n",
       "    <tr>\n",
       "      <th>4</th>\n",
       "      <td>2</td>\n",
       "      <td>10011</td>\n",
       "      <td>220375232</td>\n",
       "      <td>0</td>\n",
       "      <td>1</td>\n",
       "      <td>55.0</td>\n",
       "      <td>0</td>\n",
       "      <td>0</td>\n",
       "      <td>0</td>\n",
       "      <td>0.0</td>\n",
       "      <td>0</td>\n",
       "      <td>4</td>\n",
       "      <td>21</td>\n",
       "      <td>1</td>\n",
       "    </tr>\n",
       "    <tr>\n",
       "      <th>...</th>\n",
       "      <td>...</td>\n",
       "      <td>...</td>\n",
       "      <td>...</td>\n",
       "      <td>...</td>\n",
       "      <td>...</td>\n",
       "      <td>...</td>\n",
       "      <td>...</td>\n",
       "      <td>...</td>\n",
       "      <td>...</td>\n",
       "      <td>...</td>\n",
       "      <td>...</td>\n",
       "      <td>...</td>\n",
       "      <td>...</td>\n",
       "      <td>...</td>\n",
       "    </tr>\n",
       "    <tr>\n",
       "      <th>54701</th>\n",
       "      <td>1</td>\n",
       "      <td>9973</td>\n",
       "      <td>1729524723</td>\n",
       "      <td>1</td>\n",
       "      <td>5</td>\n",
       "      <td>43.0</td>\n",
       "      <td>0</td>\n",
       "      <td>0</td>\n",
       "      <td>0</td>\n",
       "      <td>1.0</td>\n",
       "      <td>0</td>\n",
       "      <td>2</td>\n",
       "      <td>49</td>\n",
       "      <td>0</td>\n",
       "    </tr>\n",
       "    <tr>\n",
       "      <th>54702</th>\n",
       "      <td>1</td>\n",
       "      <td>9989</td>\n",
       "      <td>63473691</td>\n",
       "      <td>0</td>\n",
       "      <td>5</td>\n",
       "      <td>60.0</td>\n",
       "      <td>0</td>\n",
       "      <td>0</td>\n",
       "      <td>0</td>\n",
       "      <td>1.0</td>\n",
       "      <td>0</td>\n",
       "      <td>2</td>\n",
       "      <td>216</td>\n",
       "      <td>0</td>\n",
       "    </tr>\n",
       "    <tr>\n",
       "      <th>54703</th>\n",
       "      <td>1</td>\n",
       "      <td>9989</td>\n",
       "      <td>1078943060</td>\n",
       "      <td>0</td>\n",
       "      <td>1</td>\n",
       "      <td>60.0</td>\n",
       "      <td>0</td>\n",
       "      <td>0</td>\n",
       "      <td>0</td>\n",
       "      <td>1.0</td>\n",
       "      <td>0</td>\n",
       "      <td>2</td>\n",
       "      <td>216</td>\n",
       "      <td>0</td>\n",
       "    </tr>\n",
       "    <tr>\n",
       "      <th>54704</th>\n",
       "      <td>1</td>\n",
       "      <td>9989</td>\n",
       "      <td>398038886</td>\n",
       "      <td>1</td>\n",
       "      <td>5</td>\n",
       "      <td>60.0</td>\n",
       "      <td>0</td>\n",
       "      <td>0</td>\n",
       "      <td>0</td>\n",
       "      <td>0.0</td>\n",
       "      <td>0</td>\n",
       "      <td>2</td>\n",
       "      <td>216</td>\n",
       "      <td>1</td>\n",
       "    </tr>\n",
       "    <tr>\n",
       "      <th>54705</th>\n",
       "      <td>1</td>\n",
       "      <td>9989</td>\n",
       "      <td>439796429</td>\n",
       "      <td>1</td>\n",
       "      <td>1</td>\n",
       "      <td>60.0</td>\n",
       "      <td>0</td>\n",
       "      <td>0</td>\n",
       "      <td>0</td>\n",
       "      <td>0.0</td>\n",
       "      <td>0</td>\n",
       "      <td>2</td>\n",
       "      <td>216</td>\n",
       "      <td>1</td>\n",
       "    </tr>\n",
       "  </tbody>\n",
       "</table>\n",
       "<p>54706 rows × 14 columns</p>\n",
       "</div>"
      ],
      "text/plain": [
       "       site_id  patient_id    image_id  laterality  view   age  cancer  \\\n",
       "0            2       10006   462822612           0     1  61.0       0   \n",
       "1            2       10006  1459541791           0     5  61.0       0   \n",
       "2            2       10006  1864590858           1     5  61.0       0   \n",
       "3            2       10006  1874946579           1     1  61.0       0   \n",
       "4            2       10011   220375232           0     1  55.0       0   \n",
       "...        ...         ...         ...         ...   ...   ...     ...   \n",
       "54701        1        9973  1729524723           1     5  43.0       0   \n",
       "54702        1        9989    63473691           0     5  60.0       0   \n",
       "54703        1        9989  1078943060           0     1  60.0       0   \n",
       "54704        1        9989   398038886           1     5  60.0       0   \n",
       "54705        1        9989   439796429           1     1  60.0       0   \n",
       "\n",
       "       biopsy  invasive  BIRADS  implant  density  machine_id  \\\n",
       "0           0         0     0.0        0        4          29   \n",
       "1           0         0     0.0        0        4          29   \n",
       "2           0         0     0.0        0        4          29   \n",
       "3           0         0     0.0        0        4          29   \n",
       "4           0         0     0.0        0        4          21   \n",
       "...       ...       ...     ...      ...      ...         ...   \n",
       "54701       0         0     1.0        0        2          49   \n",
       "54702       0         0     1.0        0        2         216   \n",
       "54703       0         0     1.0        0        2         216   \n",
       "54704       0         0     0.0        0        2         216   \n",
       "54705       0         0     0.0        0        2         216   \n",
       "\n",
       "       difficult_negative_case  \n",
       "0                            0  \n",
       "1                            0  \n",
       "2                            0  \n",
       "3                            0  \n",
       "4                            1  \n",
       "...                        ...  \n",
       "54701                        0  \n",
       "54702                        0  \n",
       "54703                        0  \n",
       "54704                        1  \n",
       "54705                        1  \n",
       "\n",
       "[54706 rows x 14 columns]"
      ]
     },
     "execution_count": 14,
     "metadata": {},
     "output_type": "execute_result"
    }
   ],
   "source": [
    "train_df"
   ]
  },
  {
   "cell_type": "markdown",
   "id": "b7f26321",
   "metadata": {
    "papermill": {
     "duration": 0.014777,
     "end_time": "2023-03-10T16:03:41.574763",
     "exception": false,
     "start_time": "2023-03-10T16:03:41.559986",
     "status": "completed"
    },
    "tags": []
   },
   "source": [
    "For mutual Info we need to specify x_train and y_train. Here, 'cancer' column located in the middle of dataset is the target.So, for convinient we moved it to the last column."
   ]
  },
  {
   "cell_type": "code",
   "execution_count": 15,
   "id": "b2837bad",
   "metadata": {
    "execution": {
     "iopub.execute_input": "2023-03-10T16:03:41.605379Z",
     "iopub.status.busy": "2023-03-10T16:03:41.604934Z",
     "iopub.status.idle": "2023-03-10T16:03:41.610723Z",
     "shell.execute_reply": "2023-03-10T16:03:41.609414Z"
    },
    "papermill": {
     "duration": 0.024256,
     "end_time": "2023-03-10T16:03:41.613388",
     "exception": false,
     "start_time": "2023-03-10T16:03:41.589132",
     "status": "completed"
    },
    "tags": []
   },
   "outputs": [],
   "source": [
    "cancer_column = train_df.pop('cancer')"
   ]
  },
  {
   "cell_type": "code",
   "execution_count": 16,
   "id": "0074f737",
   "metadata": {
    "execution": {
     "iopub.execute_input": "2023-03-10T16:03:41.644160Z",
     "iopub.status.busy": "2023-03-10T16:03:41.643777Z",
     "iopub.status.idle": "2023-03-10T16:03:41.666269Z",
     "shell.execute_reply": "2023-03-10T16:03:41.665021Z"
    },
    "papermill": {
     "duration": 0.040681,
     "end_time": "2023-03-10T16:03:41.668625",
     "exception": false,
     "start_time": "2023-03-10T16:03:41.627944",
     "status": "completed"
    },
    "tags": []
   },
   "outputs": [
    {
     "data": {
      "text/html": [
       "<div>\n",
       "<style scoped>\n",
       "    .dataframe tbody tr th:only-of-type {\n",
       "        vertical-align: middle;\n",
       "    }\n",
       "\n",
       "    .dataframe tbody tr th {\n",
       "        vertical-align: top;\n",
       "    }\n",
       "\n",
       "    .dataframe thead th {\n",
       "        text-align: right;\n",
       "    }\n",
       "</style>\n",
       "<table border=\"1\" class=\"dataframe\">\n",
       "  <thead>\n",
       "    <tr style=\"text-align: right;\">\n",
       "      <th></th>\n",
       "      <th>site_id</th>\n",
       "      <th>patient_id</th>\n",
       "      <th>image_id</th>\n",
       "      <th>laterality</th>\n",
       "      <th>view</th>\n",
       "      <th>age</th>\n",
       "      <th>biopsy</th>\n",
       "      <th>invasive</th>\n",
       "      <th>BIRADS</th>\n",
       "      <th>implant</th>\n",
       "      <th>density</th>\n",
       "      <th>machine_id</th>\n",
       "      <th>difficult_negative_case</th>\n",
       "      <th>cancer</th>\n",
       "    </tr>\n",
       "  </thead>\n",
       "  <tbody>\n",
       "    <tr>\n",
       "      <th>0</th>\n",
       "      <td>2</td>\n",
       "      <td>10006</td>\n",
       "      <td>462822612</td>\n",
       "      <td>0</td>\n",
       "      <td>1</td>\n",
       "      <td>61.0</td>\n",
       "      <td>0</td>\n",
       "      <td>0</td>\n",
       "      <td>0.0</td>\n",
       "      <td>0</td>\n",
       "      <td>4</td>\n",
       "      <td>29</td>\n",
       "      <td>0</td>\n",
       "      <td>0</td>\n",
       "    </tr>\n",
       "    <tr>\n",
       "      <th>1</th>\n",
       "      <td>2</td>\n",
       "      <td>10006</td>\n",
       "      <td>1459541791</td>\n",
       "      <td>0</td>\n",
       "      <td>5</td>\n",
       "      <td>61.0</td>\n",
       "      <td>0</td>\n",
       "      <td>0</td>\n",
       "      <td>0.0</td>\n",
       "      <td>0</td>\n",
       "      <td>4</td>\n",
       "      <td>29</td>\n",
       "      <td>0</td>\n",
       "      <td>0</td>\n",
       "    </tr>\n",
       "    <tr>\n",
       "      <th>2</th>\n",
       "      <td>2</td>\n",
       "      <td>10006</td>\n",
       "      <td>1864590858</td>\n",
       "      <td>1</td>\n",
       "      <td>5</td>\n",
       "      <td>61.0</td>\n",
       "      <td>0</td>\n",
       "      <td>0</td>\n",
       "      <td>0.0</td>\n",
       "      <td>0</td>\n",
       "      <td>4</td>\n",
       "      <td>29</td>\n",
       "      <td>0</td>\n",
       "      <td>0</td>\n",
       "    </tr>\n",
       "    <tr>\n",
       "      <th>3</th>\n",
       "      <td>2</td>\n",
       "      <td>10006</td>\n",
       "      <td>1874946579</td>\n",
       "      <td>1</td>\n",
       "      <td>1</td>\n",
       "      <td>61.0</td>\n",
       "      <td>0</td>\n",
       "      <td>0</td>\n",
       "      <td>0.0</td>\n",
       "      <td>0</td>\n",
       "      <td>4</td>\n",
       "      <td>29</td>\n",
       "      <td>0</td>\n",
       "      <td>0</td>\n",
       "    </tr>\n",
       "    <tr>\n",
       "      <th>4</th>\n",
       "      <td>2</td>\n",
       "      <td>10011</td>\n",
       "      <td>220375232</td>\n",
       "      <td>0</td>\n",
       "      <td>1</td>\n",
       "      <td>55.0</td>\n",
       "      <td>0</td>\n",
       "      <td>0</td>\n",
       "      <td>0.0</td>\n",
       "      <td>0</td>\n",
       "      <td>4</td>\n",
       "      <td>21</td>\n",
       "      <td>1</td>\n",
       "      <td>0</td>\n",
       "    </tr>\n",
       "    <tr>\n",
       "      <th>...</th>\n",
       "      <td>...</td>\n",
       "      <td>...</td>\n",
       "      <td>...</td>\n",
       "      <td>...</td>\n",
       "      <td>...</td>\n",
       "      <td>...</td>\n",
       "      <td>...</td>\n",
       "      <td>...</td>\n",
       "      <td>...</td>\n",
       "      <td>...</td>\n",
       "      <td>...</td>\n",
       "      <td>...</td>\n",
       "      <td>...</td>\n",
       "      <td>...</td>\n",
       "    </tr>\n",
       "    <tr>\n",
       "      <th>54701</th>\n",
       "      <td>1</td>\n",
       "      <td>9973</td>\n",
       "      <td>1729524723</td>\n",
       "      <td>1</td>\n",
       "      <td>5</td>\n",
       "      <td>43.0</td>\n",
       "      <td>0</td>\n",
       "      <td>0</td>\n",
       "      <td>1.0</td>\n",
       "      <td>0</td>\n",
       "      <td>2</td>\n",
       "      <td>49</td>\n",
       "      <td>0</td>\n",
       "      <td>0</td>\n",
       "    </tr>\n",
       "    <tr>\n",
       "      <th>54702</th>\n",
       "      <td>1</td>\n",
       "      <td>9989</td>\n",
       "      <td>63473691</td>\n",
       "      <td>0</td>\n",
       "      <td>5</td>\n",
       "      <td>60.0</td>\n",
       "      <td>0</td>\n",
       "      <td>0</td>\n",
       "      <td>1.0</td>\n",
       "      <td>0</td>\n",
       "      <td>2</td>\n",
       "      <td>216</td>\n",
       "      <td>0</td>\n",
       "      <td>0</td>\n",
       "    </tr>\n",
       "    <tr>\n",
       "      <th>54703</th>\n",
       "      <td>1</td>\n",
       "      <td>9989</td>\n",
       "      <td>1078943060</td>\n",
       "      <td>0</td>\n",
       "      <td>1</td>\n",
       "      <td>60.0</td>\n",
       "      <td>0</td>\n",
       "      <td>0</td>\n",
       "      <td>1.0</td>\n",
       "      <td>0</td>\n",
       "      <td>2</td>\n",
       "      <td>216</td>\n",
       "      <td>0</td>\n",
       "      <td>0</td>\n",
       "    </tr>\n",
       "    <tr>\n",
       "      <th>54704</th>\n",
       "      <td>1</td>\n",
       "      <td>9989</td>\n",
       "      <td>398038886</td>\n",
       "      <td>1</td>\n",
       "      <td>5</td>\n",
       "      <td>60.0</td>\n",
       "      <td>0</td>\n",
       "      <td>0</td>\n",
       "      <td>0.0</td>\n",
       "      <td>0</td>\n",
       "      <td>2</td>\n",
       "      <td>216</td>\n",
       "      <td>1</td>\n",
       "      <td>0</td>\n",
       "    </tr>\n",
       "    <tr>\n",
       "      <th>54705</th>\n",
       "      <td>1</td>\n",
       "      <td>9989</td>\n",
       "      <td>439796429</td>\n",
       "      <td>1</td>\n",
       "      <td>1</td>\n",
       "      <td>60.0</td>\n",
       "      <td>0</td>\n",
       "      <td>0</td>\n",
       "      <td>0.0</td>\n",
       "      <td>0</td>\n",
       "      <td>2</td>\n",
       "      <td>216</td>\n",
       "      <td>1</td>\n",
       "      <td>0</td>\n",
       "    </tr>\n",
       "  </tbody>\n",
       "</table>\n",
       "<p>54706 rows × 14 columns</p>\n",
       "</div>"
      ],
      "text/plain": [
       "       site_id  patient_id    image_id  laterality  view   age  biopsy  \\\n",
       "0            2       10006   462822612           0     1  61.0       0   \n",
       "1            2       10006  1459541791           0     5  61.0       0   \n",
       "2            2       10006  1864590858           1     5  61.0       0   \n",
       "3            2       10006  1874946579           1     1  61.0       0   \n",
       "4            2       10011   220375232           0     1  55.0       0   \n",
       "...        ...         ...         ...         ...   ...   ...     ...   \n",
       "54701        1        9973  1729524723           1     5  43.0       0   \n",
       "54702        1        9989    63473691           0     5  60.0       0   \n",
       "54703        1        9989  1078943060           0     1  60.0       0   \n",
       "54704        1        9989   398038886           1     5  60.0       0   \n",
       "54705        1        9989   439796429           1     1  60.0       0   \n",
       "\n",
       "       invasive  BIRADS  implant  density  machine_id  \\\n",
       "0             0     0.0        0        4          29   \n",
       "1             0     0.0        0        4          29   \n",
       "2             0     0.0        0        4          29   \n",
       "3             0     0.0        0        4          29   \n",
       "4             0     0.0        0        4          21   \n",
       "...         ...     ...      ...      ...         ...   \n",
       "54701         0     1.0        0        2          49   \n",
       "54702         0     1.0        0        2         216   \n",
       "54703         0     1.0        0        2         216   \n",
       "54704         0     0.0        0        2         216   \n",
       "54705         0     0.0        0        2         216   \n",
       "\n",
       "       difficult_negative_case  cancer  \n",
       "0                            0       0  \n",
       "1                            0       0  \n",
       "2                            0       0  \n",
       "3                            0       0  \n",
       "4                            1       0  \n",
       "...                        ...     ...  \n",
       "54701                        0       0  \n",
       "54702                        0       0  \n",
       "54703                        0       0  \n",
       "54704                        1       0  \n",
       "54705                        1       0  \n",
       "\n",
       "[54706 rows x 14 columns]"
      ]
     },
     "execution_count": 16,
     "metadata": {},
     "output_type": "execute_result"
    }
   ],
   "source": [
    "train_df.insert(13,'cancer',cancer_column)\n",
    "train_df"
   ]
  },
  {
   "cell_type": "code",
   "execution_count": 17,
   "id": "ed4a077f",
   "metadata": {
    "execution": {
     "iopub.execute_input": "2023-03-10T16:03:41.701154Z",
     "iopub.status.busy": "2023-03-10T16:03:41.700769Z",
     "iopub.status.idle": "2023-03-10T16:03:45.261286Z",
     "shell.execute_reply": "2023-03-10T16:03:45.260092Z"
    },
    "papermill": {
     "duration": 3.579999,
     "end_time": "2023-03-10T16:03:45.263847",
     "exception": false,
     "start_time": "2023-03-10T16:03:41.683848",
     "status": "completed"
    },
    "tags": []
   },
   "outputs": [
    {
     "data": {
      "text/plain": [
       "array([0.00614197, 0.02652409, 0.00097298, 0.00301173, 0.00658525,\n",
       "       0.00333865, 0.06578188, 0.06499953, 0.01526874, 0.        ,\n",
       "       0.00552107, 0.00370403, 0.00404476])"
      ]
     },
     "execution_count": 17,
     "metadata": {},
     "output_type": "execute_result"
    }
   ],
   "source": [
    "from sklearn.feature_selection import mutual_info_classif\n",
    "x_train = train_df.iloc[:,:13]\n",
    "y_train =train_df.iloc[:,-1]\n",
    "mutual_info = mutual_info_classif(x_train,y_train)\n",
    "mutual_info"
   ]
  },
  {
   "cell_type": "code",
   "execution_count": 18,
   "id": "0b169a37",
   "metadata": {
    "execution": {
     "iopub.execute_input": "2023-03-10T16:03:45.296554Z",
     "iopub.status.busy": "2023-03-10T16:03:45.295381Z",
     "iopub.status.idle": "2023-03-10T16:03:45.305452Z",
     "shell.execute_reply": "2023-03-10T16:03:45.304185Z"
    },
    "papermill": {
     "duration": 0.029035,
     "end_time": "2023-03-10T16:03:45.307981",
     "exception": false,
     "start_time": "2023-03-10T16:03:45.278946",
     "status": "completed"
    },
    "tags": []
   },
   "outputs": [
    {
     "data": {
      "text/plain": [
       "biopsy                     0.065782\n",
       "invasive                   0.065000\n",
       "patient_id                 0.026524\n",
       "BIRADS                     0.015269\n",
       "view                       0.006585\n",
       "site_id                    0.006142\n",
       "density                    0.005521\n",
       "difficult_negative_case    0.004045\n",
       "machine_id                 0.003704\n",
       "age                        0.003339\n",
       "laterality                 0.003012\n",
       "image_id                   0.000973\n",
       "implant                    0.000000\n",
       "dtype: float64"
      ]
     },
     "execution_count": 18,
     "metadata": {},
     "output_type": "execute_result"
    }
   ],
   "source": [
    "mutual_info = pd.Series(mutual_info)\n",
    "mutual_info.index = x_train.columns\n",
    "mutual_info.sort_values(ascending=False)"
   ]
  },
  {
   "cell_type": "code",
   "execution_count": 19,
   "id": "aa938f94",
   "metadata": {
    "execution": {
     "iopub.execute_input": "2023-03-10T16:03:45.339886Z",
     "iopub.status.busy": "2023-03-10T16:03:45.338951Z",
     "iopub.status.idle": "2023-03-10T16:03:45.631479Z",
     "shell.execute_reply": "2023-03-10T16:03:45.630188Z"
    },
    "papermill": {
     "duration": 0.311306,
     "end_time": "2023-03-10T16:03:45.634101",
     "exception": false,
     "start_time": "2023-03-10T16:03:45.322795",
     "status": "completed"
    },
    "tags": []
   },
   "outputs": [
    {
     "data": {
      "text/plain": [
       "<AxesSubplot:>"
      ]
     },
     "execution_count": 19,
     "metadata": {},
     "output_type": "execute_result"
    },
    {
     "data": {
      "image/png": "[encoded data removed]",
      "text/plain": [
       "<Figure size 800x800 with 1 Axes>"
      ]
     },
     "metadata": {},
     "output_type": "display_data"
    }
   ],
   "source": [
    "mutual_info.sort_values(ascending=False).plot.bar(figsize=(8,8))"
   ]
  },
  {
   "cell_type": "markdown",
   "id": "e90d80d7",
   "metadata": {
    "papermill": {
     "duration": 0.015463,
     "end_time": "2023-03-10T16:03:45.665149",
     "exception": false,
     "start_time": "2023-03-10T16:03:45.649686",
     "status": "completed"
    },
    "tags": []
   },
   "source": [
    "<p id=\"part3-5\"></p>\n",
    "\n",
    "<p style=\"font-family: Times New Roman; font-size: 20px; font-style: bold; font-weight: bold; letter-spacing: 0px; color: #0000FF\">3-5 Visualization</p>\n",
    "<hr style=\"height: 1px; border: 1; background-color: #0000FF\">"
   ]
  },
  {
   "cell_type": "code",
   "execution_count": 20,
   "id": "6c098f64",
   "metadata": {
    "execution": {
     "iopub.execute_input": "2023-03-10T16:03:45.697889Z",
     "iopub.status.busy": "2023-03-10T16:03:45.697505Z",
     "iopub.status.idle": "2023-03-10T16:03:46.890283Z",
     "shell.execute_reply": "2023-03-10T16:03:46.888912Z"
    },
    "papermill": {
     "duration": 1.212401,
     "end_time": "2023-03-10T16:03:46.893013",
     "exception": false,
     "start_time": "2023-03-10T16:03:45.680612",
     "status": "completed"
    },
    "tags": []
   },
   "outputs": [
    {
     "data": {
      "text/plain": [
       "<seaborn.axisgrid.FacetGrid at 0x7ff37e64a890>"
      ]
     },
     "execution_count": 20,
     "metadata": {},
     "output_type": "execute_result"
    },
    {
     "data": {
      "text/plain": [
       "<Figure size 800x800 with 0 Axes>"
      ]
     },
     "metadata": {},
     "output_type": "display_data"
    },
    {
     "data": {
      "image/png": "[encoded data removed]",
      "text/plain": [
       "<Figure size 558.875x500 with 1 Axes>"
      ]
     },
     "metadata": {},
     "output_type": "display_data"
    }
   ],
   "source": [
    "fig = plt.figure(figsize=(8,8))\n",
    "sns.displot(data=train_df, x=train_df.age,kde=True,hue=train_df.cancer)"
   ]
  },
  {
   "cell_type": "code",
   "execution_count": 21,
   "id": "b65343d9",
   "metadata": {
    "execution": {
     "iopub.execute_input": "2023-03-10T16:03:46.929559Z",
     "iopub.status.busy": "2023-03-10T16:03:46.929111Z",
     "iopub.status.idle": "2023-03-10T16:03:47.832350Z",
     "shell.execute_reply": "2023-03-10T16:03:47.831080Z"
    },
    "papermill": {
     "duration": 0.924398,
     "end_time": "2023-03-10T16:03:47.835057",
     "exception": false,
     "start_time": "2023-03-10T16:03:46.910659",
     "status": "completed"
    },
    "tags": []
   },
   "outputs": [
    {
     "data": {
      "text/plain": [
       "<AxesSubplot:title={'center':'Cancer detected'}, xlabel='age', ylabel='Count'>"
      ]
     },
     "execution_count": 21,
     "metadata": {},
     "output_type": "execute_result"
    },
    {
     "data": {
      "image/png": "[encoded data removed]",
      "text/plain": [
       "<Figure size 1000x600 with 2 Axes>"
      ]
     },
     "metadata": {},
     "output_type": "display_data"
    }
   ],
   "source": [
    "fig,(ax1,ax2)= plt.subplots(1,2,figsize=(10,6))\n",
    "sns.histplot(data= train_df,x=train_df[train_df.cancer==0].age,kde=True,ax=ax1)\n",
    "ax1.set_title('No cancer detected',weight='bold',size=15)\n",
    "ax1.axvline(x=58,ls=':',color='red',)\n",
    "ax1.text(x=58,y=2200,s=f'Mean:{int(train_df[train_df.cancer==0].age.mean())}')\n",
    "ax2.set_title('Cancer detected',weight='bold',size=15)\n",
    "ax2.axvline(x=63,ls=':',color='red',)\n",
    "ax2.text(x=63,y=140,s=f'Mean:{int(train_df[train_df.cancer==1].age.mean())}')\n",
    "sns.histplot(data= train_df,x=train_df[train_df.cancer==1].age,kde=True,ax=ax2)\n"
   ]
  },
  {
   "cell_type": "code",
   "execution_count": null,
   "id": "0300cea8",
   "metadata": {
    "papermill": {
     "duration": 0.017456,
     "end_time": "2023-03-10T16:03:47.870312",
     "exception": false,
     "start_time": "2023-03-10T16:03:47.852856",
     "status": "completed"
    },
    "tags": []
   },
   "outputs": [],
   "source": []
  },
  {
   "cell_type": "code",
   "execution_count": null,
   "id": "4ad1fa92",
   "metadata": {
    "papermill": {
     "duration": 0.017565,
     "end_time": "2023-03-10T16:03:47.905557",
     "exception": false,
     "start_time": "2023-03-10T16:03:47.887992",
     "status": "completed"
    },
    "tags": []
   },
   "outputs": [],
   "source": []
  }
 ],
 "metadata": {
  "kernelspec": {
   "display_name": "Python 3",
   "language": "python",
   "name": "python3"
  },
  "language_info": {
   "codemirror_mode": {
    "name": "ipython",
    "version": 3
   },
   "file_extension": ".py",
   "mimetype": "text/x-python",
   "name": "python",
   "nbconvert_exporter": "python",
   "pygments_lexer": "ipython3",
   "version": "3.7.12"
  },
  "papermill": {
   "default_parameters": {},
   "duration": 23.891286,
   "end_time": "2023-03-10T16:03:48.746083",
   "environment_variables": {},
   "exception": null,
   "input_path": "__notebook__.ipynb",
   "output_path": "__notebook__.ipynb",
   "parameters": {},
   "start_time": "2023-03-10T16:03:24.854797",
   "version": "2.4.0"
  }
 },
 "nbformat": 4,
 "nbformat_minor": 5
}
